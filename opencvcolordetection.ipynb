{
 "cells": [
  {
   "cell_type": "code",
   "execution_count": null,
   "metadata": {},
   "outputs": [],
   "source": [
    "import cv2\n",
    "import numpy as np\n",
    "framewidth=640\n",
    "framehight=480\n",
    "cap=cv2.VideoCapture(0)\n",
    "cap.set(3,framewidth)\n",
    "cap.set(4,framehight)\n",
    "cap.set(10,150)"
   ]
  },
  {
   "cell_type": "code",
   "execution_count": null,
   "metadata": {},
   "outputs": [],
   "source": [
    "### Orange color\n",
    "mycolors=[[10,112,178,54,255,255]]\n"
   ]
  },
  {
   "cell_type": "code",
   "execution_count": null,
   "metadata": {},
   "outputs": [],
   "source": [
    "def findcolore(img,mycolors):\n",
    "    imghsv=cv2.cvtColor(img,cv2.COLOR_BGR2HSV)\n",
    "    lower=np.array((mycolors[0][0:3]))\n",
    "    upper=np.array(mycolors[0][3:6])\n",
    "    mask=cv2.inRange(imghsv,lower,upper)\n",
    "    cv2.imshow(\"img\",mask)\n",
    "while True:\n",
    "    sucess,img=cap.read()\n",
    "    findcolore(img,mycolors)\n",
    "    cv2.imshow(\"abhi\",img)\n",
    "    if cv2.waitKey(1)&0xFF == ord('q'):\n",
    "        break"
   ]
  },
  {
   "cell_type": "code",
   "execution_count": null,
   "metadata": {},
   "outputs": [],
   "source": []
  }
 ],
 "metadata": {
  "kernelspec": {
   "display_name": "Python 3",
   "language": "python",
   "name": "python3"
  },
  "language_info": {
   "codemirror_mode": {
    "name": "ipython",
    "version": 3
   },
   "file_extension": ".py",
   "mimetype": "text/x-python",
   "name": "python",
   "nbconvert_exporter": "python",
   "pygments_lexer": "ipython3",
   "version": "3.7.6"
  }
 },
 "nbformat": 4,
 "nbformat_minor": 4
}
